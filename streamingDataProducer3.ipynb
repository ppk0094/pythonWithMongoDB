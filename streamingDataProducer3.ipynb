{
 "cells": [
  {
   "cell_type": "code",
   "execution_count": 1,
   "metadata": {},
   "outputs": [
    {
     "name": "stdout",
     "output_type": "stream",
     "text": [
      "Publishing records..\n"
     ]
    },
    {
     "name": "stderr",
     "output_type": "stream",
     "text": [
      "/home/student/.local/lib/python3.5/site-packages/ipykernel_launcher.py:47: SettingWithCopyWarning: \n",
      "A value is trying to be set on a copy of a slice from a DataFrame\n",
      "\n",
      "See the caveats in the documentation: http://pandas.pydata.org/pandas-docs/stable/indexing.html#indexing-view-versus-copy\n",
      "/home/student/.local/lib/python3.5/site-packages/ipykernel_launcher.py:48: SettingWithCopyWarning: \n",
      "A value is trying to be set on a copy of a slice from a DataFrame\n",
      "\n",
      "See the caveats in the documentation: http://pandas.pydata.org/pandas-docs/stable/indexing.html#indexing-view-versus-copy\n"
     ]
    },
    {
     "name": "stdout",
     "output_type": "stream",
     "text": [
      "Message published successfully. Data: {'time': '17:28:33', 'id': 'sender_3', 'confidence': 68, 'surface_temperature_celcius': 44, 'geohash': 'r1s2c', 'latitude': -36.3891, 'longitude': 141.0253}\n",
      "Message published successfully. Data: {'time': '17:28:47', 'id': 'sender_3', 'confidence': 77, 'surface_temperature_celcius': 50, 'geohash': 'r1t0m', 'latitude': -36.4811, 'longitude': 142.2606}\n",
      "Message published successfully. Data: {'time': '17:29:09', 'id': 'sender_3', 'confidence': 74, 'surface_temperature_celcius': 48, 'geohash': 'r1mx7', 'latitude': -36.6535, 'longitude': 142.8771}\n",
      "Message published successfully. Data: {'time': '17:29:31', 'id': 'sender_3', 'confidence': 59, 'surface_temperature_celcius': 40, 'geohash': 'r1mdu', 'latitude': -37.4574, 'longitude': 142.9354}\n",
      "Message published successfully. Data: {'time': '17:29:47', 'id': 'sender_3', 'confidence': 93, 'surface_temperature_celcius': 44, 'geohash': 'r1rct', 'latitude': -37.6784, 'longitude': 146.1432}\n",
      "Message published successfully. Data: {'time': '17:29:57', 'id': 'sender_3', 'confidence': 58, 'surface_temperature_celcius': 47, 'geohash': 'r1rb5', 'latitude': -37.9408, 'longitude': 146.0611}\n",
      "Message published successfully. Data: {'time': '17:30:26', 'id': 'sender_3', 'confidence': 68, 'surface_temperature_celcius': 44, 'geohash': 'r1tzs', 'latitude': -35.2068, 'longitude': 143.2912}\n",
      "Message published successfully. Data: {'time': '17:30:54', 'id': 'sender_3', 'confidence': 91, 'surface_temperature_celcius': 68, 'geohash': 'r1x3p', 'latitude': -36.3487, 'longitude': 145.5315}\n",
      "Message published successfully. Data: {'time': '17:31:04', 'id': 'sender_3', 'confidence': 72, 'surface_temperature_celcius': 48, 'geohash': 'r1m2b', 'latitude': -37.8297, 'longitude': 142.4083}\n",
      "Message published successfully. Data: {'time': '17:31:33', 'id': 'sender_3', 'confidence': 69, 'surface_temperature_celcius': 44, 'geohash': 'r1mb4', 'latitude': -37.9318, 'longitude': 143.2083}\n",
      "Message published successfully. Data: {'time': '17:31:59', 'id': 'sender_3', 'confidence': 100, 'surface_temperature_celcius': 98, 'geohash': 'r1xdx', 'latitude': -36.0816, 'longitude': 145.859}\n",
      "Message published successfully. Data: {'time': '17:32:23', 'id': 'sender_3', 'confidence': 100, 'surface_temperature_celcius': 122, 'geohash': 'r1mvb', 'latitude': -36.9318, 'longitude': 143.0907}\n",
      "Message published successfully. Data: {'time': '17:32:35', 'id': 'sender_3', 'confidence': 96, 'surface_temperature_celcius': 78, 'geohash': 'r32u5', 'latitude': -37.222, 'longitude': 147.4689}\n",
      "Message published successfully. Data: {'time': '17:32:59', 'id': 'sender_3', 'confidence': 63, 'surface_temperature_celcius': 41, 'geohash': 'r1mbk', 'latitude': -37.8857, 'longitude': 143.2777}\n",
      "Message published successfully. Data: {'time': '17:33:29', 'id': 'sender_3', 'confidence': 84, 'surface_temperature_celcius': 58, 'geohash': 'r1w6j', 'latitude': -36.1704, 'longitude': 144.0433}\n",
      "Message published successfully. Data: {'time': '17:33:59', 'id': 'sender_3', 'confidence': 90, 'surface_temperature_celcius': 67, 'geohash': 'r1mr0', 'latitude': -36.7101, 'longitude': 142.3865}\n"
     ]
    },
    {
     "ename": "KeyboardInterrupt",
     "evalue": "",
     "output_type": "error",
     "traceback": [
      "\u001b[0;31m---------------------------------------------------------------------------\u001b[0m",
      "\u001b[0;31mKeyboardInterrupt\u001b[0m                         Traceback (most recent call last)",
      "\u001b[0;32m<ipython-input-1-9d3ebcd6b5d3>\u001b[0m in \u001b[0;36m<module>\u001b[0;34m()\u001b[0m\n\u001b[1;32m     52\u001b[0m         \u001b[0mpublish_message\u001b[0m\u001b[0;34m(\u001b[0m\u001b[0mproducer\u001b[0m\u001b[0;34m,\u001b[0m \u001b[0mtopic\u001b[0m\u001b[0;34m,\u001b[0m \u001b[0;34m'parsed'\u001b[0m\u001b[0;34m,\u001b[0m \u001b[0mdata\u001b[0m\u001b[0;34m)\u001b[0m\u001b[0;34m\u001b[0m\u001b[0m\n\u001b[1;32m     53\u001b[0m         \u001b[0mi\u001b[0m \u001b[0;34m=\u001b[0m \u001b[0mrandom\u001b[0m\u001b[0;34m.\u001b[0m\u001b[0mchoice\u001b[0m\u001b[0;34m(\u001b[0m\u001b[0ml\u001b[0m\u001b[0;34m)\u001b[0m\u001b[0;34m\u001b[0m\u001b[0m\n\u001b[0;32m---> 54\u001b[0;31m         \u001b[0msleep\u001b[0m\u001b[0;34m(\u001b[0m\u001b[0mrandom\u001b[0m\u001b[0;34m.\u001b[0m\u001b[0mrandint\u001b[0m\u001b[0;34m(\u001b[0m\u001b[0;36m10\u001b[0m\u001b[0;34m,\u001b[0m\u001b[0;36m30\u001b[0m\u001b[0;34m)\u001b[0m\u001b[0;34m)\u001b[0m \u001b[0;31m# Randomising time\u001b[0m\u001b[0;34m\u001b[0m\u001b[0m\n\u001b[0m",
      "\u001b[0;31mKeyboardInterrupt\u001b[0m: "
     ]
    }
   ],
   "source": [
    "# Loading the required libraries\n",
    "from time import sleep\n",
    "from json import dumps\n",
    "from kafka import KafkaProducer\n",
    "import random\n",
    "import datetime as dt\n",
    "import pandas as pd\n",
    "import pygeohash as pgh\n",
    "\n",
    "# Function to publish the message which is being transmitted for every (10-30)seconds\n",
    "def publish_message(producer_instance, topic_name, key, value):\n",
    "    try:\n",
    "        key_bytes = bytes(key, encoding='utf-8')\n",
    "        value_bytes = bytes(value, encoding='utf-8')\n",
    "        producer_instance.send(topic_name, key=key_bytes, value=value_bytes)\n",
    "        producer_instance.flush()\n",
    "        print('Message published successfully. Data: ' + str(data))\n",
    "    except Exception as ex:\n",
    "        print('Exception in publishing message.')\n",
    "        print(str(ex))\n",
    "        \n",
    "# producer function to connect to local kafka sevrer intalled on the machine        \n",
    "def connect_kafka_producer():\n",
    "    _producer = None\n",
    "    try:\n",
    "        _producer = KafkaProducer(bootstrap_servers=['localhost:9092'],\n",
    "                                  api_version=(0, 10))\n",
    "    except Exception as ex:\n",
    "        print('Exception while connecting Kafka.')\n",
    "        print(str(ex))\n",
    "    finally:\n",
    "        return _producer\n",
    "    \n",
    "if __name__ == '__main__':\n",
    "   \n",
    "    topic = 'Scenario01'    \n",
    "    print('Publishing records..')\n",
    "    producer = connect_kafka_producer()\n",
    "    \n",
    "    hotspot_AQUA=pd.read_csv(\"hotspot_AQUA_streaming.csv\") # Loading Data\n",
    "    hotspot_AQUA['id']=None # Adding Id\n",
    "    hotspot_AQUA['time']=None #Adding Time\n",
    "    hotspot_AQUA['geohash']=None # Adding Geo hash\n",
    "    l = list(i for i in range(len(hotspot_AQUA.index)))\n",
    "    i = random.choice(l) # Randomising\n",
    "    while(i<len(hotspot_AQUA)):\n",
    "        hotspot_AQUA['id'][i]=\"sender_3\"\n",
    "        hotspot_AQUA['time'][i]=dt.datetime.now().strftime(\"%H:%M:%S\")\n",
    "        hotspot_AQUA['geohash']=pgh.encode(hotspot_AQUA['latitude'][i], hotspot_AQUA['longitude'][i],precision=5)\n",
    "        data = hotspot_AQUA.iloc[i].to_dict()\n",
    "        data=str(data)\n",
    "        publish_message(producer, topic, 'parsed', data)\n",
    "        i = random.choice(l)\n",
    "        sleep(random.randint(10,30)) # Randomising time"
   ]
  },
  {
   "cell_type": "code",
   "execution_count": null,
   "metadata": {},
   "outputs": [],
   "source": []
  }
 ],
 "metadata": {
  "kernelspec": {
   "display_name": "Python 3",
   "language": "python",
   "name": "python3"
  },
  "language_info": {
   "codemirror_mode": {
    "name": "ipython",
    "version": 3
   },
   "file_extension": ".py",
   "mimetype": "text/x-python",
   "name": "python",
   "nbconvert_exporter": "python",
   "pygments_lexer": "ipython3",
   "version": "3.5.2"
  }
 },
 "nbformat": 4,
 "nbformat_minor": 2
}
