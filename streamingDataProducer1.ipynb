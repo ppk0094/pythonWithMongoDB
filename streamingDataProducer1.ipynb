{
 "cells": [
  {
   "cell_type": "code",
   "execution_count": 1,
   "metadata": {},
   "outputs": [
    {
     "name": "stdout",
     "output_type": "stream",
     "text": [
      "Publishing records..\n"
     ]
    },
    {
     "name": "stderr",
     "output_type": "stream",
     "text": [
      "/home/student/.local/lib/python3.5/site-packages/ipykernel_launcher.py:47: SettingWithCopyWarning: \n",
      "A value is trying to be set on a copy of a slice from a DataFrame\n",
      "\n",
      "See the caveats in the documentation: http://pandas.pydata.org/pandas-docs/stable/indexing.html#indexing-view-versus-copy\n",
      "/home/student/.local/lib/python3.5/site-packages/ipykernel_launcher.py:48: SettingWithCopyWarning: \n",
      "A value is trying to be set on a copy of a slice from a DataFrame\n",
      "\n",
      "See the caveats in the documentation: http://pandas.pydata.org/pandas-docs/stable/indexing.html#indexing-view-versus-copy\n"
     ]
    },
    {
     "name": "stdout",
     "output_type": "stream",
     "text": [
      "Message published successfully. Data: {'latitude': -37.608000000000004, 'longitude': 149.292, 'max_wind_speed': 12.0, 'air_temperature_celcius': 15, 'id': 'sender_1', 'geohash': 'r364j', 'relative_humidity': 44.6, 'precipitation ': ' 0.02G', 'windspeed_knots': 9.7, 'time': '17:28:29'}\n",
      "Message published successfully. Data: {'latitude': -36.778, 'longitude': 145.1635, 'max_wind_speed': 20.0, 'air_temperature_celcius': 17, 'id': 'sender_1', 'geohash': 'r1rnz', 'relative_humidity': 46.3, 'precipitation ': ' 0.02G', 'windspeed_knots': 11.7, 'time': '17:28:35'}\n",
      "Message published successfully. Data: {'latitude': -37.33, 'longitude': 148.08700000000002, 'max_wind_speed': 21.0, 'air_temperature_celcius': 12, 'id': 'sender_1', 'geohash': 'r3379', 'relative_humidity': 41.8, 'precipitation ': ' 0.00I', 'windspeed_knots': 14.7, 'time': '17:28:40'}\n",
      "Message published successfully. Data: {'latitude': -36.294000000000004, 'longitude': 146.149, 'max_wind_speed': 18.1, 'air_temperature_celcius': 20, 'id': 'sender_1', 'geohash': 'r1xct', 'relative_humidity': 57.7, 'precipitation ': ' 0.00I', 'windspeed_knots': 9.9, 'time': '17:28:45'}\n",
      "Message published successfully. Data: {'latitude': -37.8387, 'longitude': 144.6301, 'max_wind_speed': 15.0, 'air_temperature_celcius': 11, 'id': 'sender_1', 'geohash': 'r1qbe', 'relative_humidity': 41.4, 'precipitation ': ' 0.03G', 'windspeed_knots': 7.7, 'time': '17:28:50'}\n",
      "Message published successfully. Data: {'latitude': -36.096, 'longitude': 146.5016, 'max_wind_speed': 16.9, 'air_temperature_celcius': 12, 'id': 'sender_1', 'geohash': 'r384t', 'relative_humidity': 41.0, 'precipitation ': ' 0.16G', 'windspeed_knots': 12.9, 'time': '17:28:56'}\n",
      "Message published successfully. Data: {'latitude': -37.626999999999995, 'longitude': 149.261, 'max_wind_speed': 15.0, 'air_temperature_celcius': 26, 'id': 'sender_1', 'geohash': 'r361u', 'relative_humidity': 53.7, 'precipitation ': ' 0.00I', 'windspeed_knots': 8.7, 'time': '17:29:01'}\n",
      "Message published successfully. Data: {'latitude': -34.5374, 'longitude': 141.7141, 'max_wind_speed': 9.9, 'air_temperature_celcius': 8, 'id': 'sender_1', 'geohash': 'r1ug8', 'relative_humidity': 40.8, 'precipitation ': ' 0.01G', 'windspeed_knots': 5.5, 'time': '17:29:06'}\n",
      "Message published successfully. Data: {'latitude': -37.242, 'longitude': 141.153, 'max_wind_speed': 19.0, 'air_temperature_celcius': 12, 'id': 'sender_1', 'geohash': 'r1kkh', 'relative_humidity': 42.8, 'precipitation ': ' 0.04G', 'windspeed_knots': 12.1, 'time': '17:29:12'}\n",
      "Message published successfully. Data: {'latitude': -37.227, 'longitude': 141.151, 'max_wind_speed': 13.0, 'air_temperature_celcius': 9, 'id': 'sender_1', 'geohash': 'r1kk5', 'relative_humidity': 41.2, 'precipitation ': ' 0.02G', 'windspeed_knots': 10.0, 'time': '17:29:17'}\n",
      "Message published successfully. Data: {'latitude': -37.453, 'longitude': 148.111, 'max_wind_speed': 16.9, 'air_temperature_celcius': 11, 'id': 'sender_1', 'geohash': 'r336f', 'relative_humidity': 45.3, 'precipitation ': ' 0.08G', 'windspeed_knots': 10.6, 'time': '17:29:22'}\n",
      "Message published successfully. Data: {'latitude': -37.945, 'longitude': 144.35399999999998, 'max_wind_speed': 13.0, 'air_temperature_celcius': 24, 'id': 'sender_1', 'geohash': 'r1q8h', 'relative_humidity': 55.6, 'precipitation ': ' 0.00I', 'windspeed_knots': 5.9, 'time': '17:29:28'}\n",
      "Message published successfully. Data: {'latitude': -36.1002, 'longitude': 142.3405, 'max_wind_speed': 13.0, 'air_temperature_celcius': 23, 'id': 'sender_1', 'geohash': 'r1t4x', 'relative_humidity': 49.6, 'precipitation ': ' 0.00I', 'windspeed_knots': 6.3, 'time': '17:29:33'}\n",
      "Message published successfully. Data: {'latitude': -36.3096, 'longitude': 142.7722, 'max_wind_speed': 9.9, 'air_temperature_celcius': 24, 'id': 'sender_1', 'geohash': 'r1t92', 'relative_humidity': 56.8, 'precipitation ': ' 0.00I', 'windspeed_knots': 5.7, 'time': '17:29:38'}\n",
      "Message published successfully. Data: {'latitude': -36.5507, 'longitude': 142.5788, 'max_wind_speed': 18.1, 'air_temperature_celcius': 17, 'id': 'sender_1', 'geohash': 'r1t2h', 'relative_humidity': 51.2, 'precipitation ': ' 0.00G', 'windspeed_knots': 9.9, 'time': '17:29:43'}\n",
      "Message published successfully. Data: {'latitude': -36.0966, 'longitude': 142.3635, 'max_wind_speed': 15.0, 'air_temperature_celcius': 22, 'id': 'sender_1', 'geohash': 'r1t4x', 'relative_humidity': 57.0, 'precipitation ': ' 0.00G', 'windspeed_knots': 8.5, 'time': '17:29:49'}\n",
      "Message published successfully. Data: {'latitude': -37.465, 'longitude': 148.153, 'max_wind_speed': 21.0, 'air_temperature_celcius': 11, 'id': 'sender_1', 'geohash': 'r336g', 'relative_humidity': 43.5, 'precipitation ': ' 0.24G', 'windspeed_knots': 13.1, 'time': '17:29:54'}\n",
      "Message published successfully. Data: {'latitude': -38.0427, 'longitude': 141.0271, 'max_wind_speed': 15.0, 'air_temperature_celcius': 19, 'id': 'sender_1', 'geohash': 'r1hr9', 'relative_humidity': 52.9, 'precipitation ': ' 0.00I', 'windspeed_knots': 8.1, 'time': '17:29:59'}\n",
      "Message published successfully. Data: {'latitude': -35.323, 'longitude': 143.509, 'max_wind_speed': 7.0, 'air_temperature_celcius': 15, 'id': 'sender_1', 'geohash': 'r1wp1', 'relative_humidity': 49.3, 'precipitation ': ' 0.00I', 'windspeed_knots': 3.6, 'time': '17:30:04'}\n",
      "Message published successfully. Data: {'latitude': -36.2693, 'longitude': 143.1768, 'max_wind_speed': 14.0, 'air_temperature_celcius': 12, 'id': 'sender_1', 'geohash': 'r1tcd', 'relative_humidity': 46.6, 'precipitation ': ' 0.00G', 'windspeed_knots': 6.7, 'time': '17:30:09'}\n",
      "Message published successfully. Data: {'latitude': -37.9243, 'longitude': 144.1064, 'max_wind_speed': 22.9, 'air_temperature_celcius': 17, 'id': 'sender_1', 'geohash': 'r1q2r', 'relative_humidity': 53.0, 'precipitation ': ' 0.00I', 'windspeed_knots': 14.6, 'time': '17:30:15'}\n",
      "Message published successfully. Data: {'latitude': -36.7801, 'longitude': 142.7151, 'max_wind_speed': 15.0, 'air_temperature_celcius': 16, 'id': 'sender_1', 'geohash': 'r1mqz', 'relative_humidity': 51.7, 'precipitation ': ' 0.00I', 'windspeed_knots': 7.4, 'time': '17:30:20'}\n",
      "Message published successfully. Data: {'latitude': -37.389, 'longitude': 149.311, 'max_wind_speed': 14.0, 'air_temperature_celcius': 18, 'id': 'sender_1', 'geohash': 'r365m', 'relative_humidity': 53.0, 'precipitation ': ' 0.00I', 'windspeed_knots': 6.6, 'time': '17:30:25'}\n",
      "Message published successfully. Data: {'latitude': -37.245, 'longitude': 143.42600000000002, 'max_wind_speed': 8.9, 'air_temperature_celcius': 10, 'id': 'sender_1', 'geohash': 'r1mup', 'relative_humidity': 47.0, 'precipitation ': ' 0.00I', 'windspeed_knots': 5.2, 'time': '17:30:30'}\n",
      "Message published successfully. Data: {'latitude': -37.6008, 'longitude': 143.0558, 'max_wind_speed': 19.0, 'air_temperature_celcius': 15, 'id': 'sender_1', 'geohash': 'r1mdp', 'relative_humidity': 44.8, 'precipitation ': ' 0.00I', 'windspeed_knots': 8.3, 'time': '17:30:35'}\n",
      "Message published successfully. Data: {'latitude': -37.475, 'longitude': 148.134, 'max_wind_speed': 7.0, 'air_temperature_celcius': 8, 'id': 'sender_1', 'geohash': 'r336f', 'relative_humidity': 43.1, 'precipitation ': ' 0.00I', 'windspeed_knots': 3.4, 'time': '17:30:41'}\n",
      "Message published successfully. Data: {'latitude': -37.758, 'longitude': 144.69299999999998, 'max_wind_speed': 15.9, 'air_temperature_celcius': 20, 'id': 'sender_1', 'geohash': 'r1qch', 'relative_humidity': 58.8, 'precipitation ': ' 0.00I', 'windspeed_knots': 11.5, 'time': '17:30:46'}\n",
      "Message published successfully. Data: {'latitude': -37.976, 'longitude': 145.649, 'max_wind_speed': 11.1, 'air_temperature_celcius': 22, 'id': 'sender_1', 'geohash': 'r1pxf', 'relative_humidity': 62.0, 'precipitation ': ' 0.00I', 'windspeed_knots': 7.9, 'time': '17:30:51'}\n",
      "Message published successfully. Data: {'latitude': -36.748000000000005, 'longitude': 144.168, 'max_wind_speed': 22.9, 'air_temperature_celcius': 11, 'id': 'sender_1', 'geohash': 'r1qwb', 'relative_humidity': 48.2, 'precipitation ': ' 0.59G', 'windspeed_knots': 10.8, 'time': '17:30:56'}\n",
      "Message published successfully. Data: {'latitude': -36.059, 'longitude': 143.7718, 'max_wind_speed': 11.1, 'air_temperature_celcius': 18, 'id': 'sender_1', 'geohash': 'r1w4z', 'relative_humidity': 53.8, 'precipitation ': ' 0.00I', 'windspeed_knots': 6.4, 'time': '17:31:01'}\n"
     ]
    },
    {
     "name": "stdout",
     "output_type": "stream",
     "text": [
      "Message published successfully. Data: {'latitude': -37.623000000000005, 'longitude': 149.32299999999998, 'max_wind_speed': 11.1, 'air_temperature_celcius': 19, 'id': 'sender_1', 'geohash': 'r361v', 'relative_humidity': 56.8, 'precipitation ': ' 0.00I', 'windspeed_knots': 7.9, 'time': '17:31:07'}\n",
      "Message published successfully. Data: {'latitude': -37.336, 'longitude': 148.07299999999998, 'max_wind_speed': 15.0, 'air_temperature_celcius': 7, 'id': 'sender_1', 'geohash': 'r3379', 'relative_humidity': 40.5, 'precipitation ': ' 0.12G', 'windspeed_knots': 8.1, 'time': '17:31:12'}\n",
      "Message published successfully. Data: {'latitude': -37.6, 'longitude': 149.297, 'max_wind_speed': 19.0, 'air_temperature_celcius': 22, 'id': 'sender_1', 'geohash': 'r364j', 'relative_humidity': 53.4, 'precipitation ': ' 0.00I', 'windspeed_knots': 10.9, 'time': '17:31:17'}\n",
      "Message published successfully. Data: {'latitude': -37.497, 'longitude': 147.266, 'max_wind_speed': 20.0, 'air_temperature_celcius': 10, 'id': 'sender_1', 'geohash': 'r32dx', 'relative_humidity': 41.0, 'precipitation ': ' 0.02G', 'windspeed_knots': 14.1, 'time': '17:31:22'}\n",
      "Message published successfully. Data: {'latitude': -36.3674, 'longitude': 143.7295, 'max_wind_speed': 20.0, 'air_temperature_celcius': 15, 'id': 'sender_1', 'geohash': 'r1w1n', 'relative_humidity': 48.7, 'precipitation ': ' 0.01G', 'windspeed_knots': 8.5, 'time': '17:31:27'}\n",
      "Message published successfully. Data: {'latitude': -36.273, 'longitude': 146.155, 'max_wind_speed': 13.0, 'air_temperature_celcius': 22, 'id': 'sender_1', 'geohash': 'r1xct', 'relative_humidity': 56.3, 'precipitation ': ' 0.08G', 'windspeed_knots': 8.0, 'time': '17:31:33'}\n",
      "Message published successfully. Data: {'latitude': -36.1462, 'longitude': 145.2096, 'max_wind_speed': 14.0, 'air_temperature_celcius': 10, 'id': 'sender_1', 'geohash': 'r1x62', 'relative_humidity': 43.6, 'precipitation ': ' 0.20G', 'windspeed_knots': 9.7, 'time': '17:31:38'}\n",
      "Message published successfully. Data: {'latitude': -35.937, 'longitude': 145.607, 'max_wind_speed': 7.0, 'air_temperature_celcius': 10, 'id': 'sender_1', 'geohash': 'r1xe9', 'relative_humidity': 43.3, 'precipitation ': ' 0.00I', 'windspeed_knots': 2.6, 'time': '17:31:43'}\n",
      "Message published successfully. Data: {'latitude': -37.591, 'longitude': 149.33, 'max_wind_speed': 16.9, 'air_temperature_celcius': 16, 'id': 'sender_1', 'geohash': 'r364n', 'relative_humidity': 46.7, 'precipitation ': ' 0.00I', 'windspeed_knots': 10.0, 'time': '17:31:48'}\n",
      "Message published successfully. Data: {'latitude': -37.856, 'longitude': 143.416, 'max_wind_speed': 11.1, 'air_temperature_celcius': 15, 'id': 'sender_1', 'geohash': 'r1mbx', 'relative_humidity': 53.7, 'precipitation ': ' 0.51G', 'windspeed_knots': 6.8, 'time': '17:31:53'}\n",
      "Message published successfully. Data: {'latitude': -37.294000000000004, 'longitude': 141.232, 'max_wind_speed': 8.9, 'air_temperature_celcius': 12, 'id': 'sender_1', 'geohash': 'r1k7v', 'relative_humidity': 49.0, 'precipitation ': ' 0.00G', 'windspeed_knots': 4.6, 'time': '17:31:59'}\n",
      "Message published successfully. Data: {'latitude': -37.623000000000005, 'longitude': 149.284, 'max_wind_speed': 15.9, 'air_temperature_celcius': 21, 'id': 'sender_1', 'geohash': 'r361v', 'relative_humidity': 64.5, 'precipitation ': ' 1.26G', 'windspeed_knots': 10.6, 'time': '17:32:04'}\n",
      "Message published successfully. Data: {'latitude': -37.461999999999996, 'longitude': 148.089, 'max_wind_speed': 12.0, 'air_temperature_celcius': 8, 'id': 'sender_1', 'geohash': 'r336c', 'relative_humidity': 40.7, 'precipitation ': ' 0.00G', 'windspeed_knots': 5.3, 'time': '17:32:09'}\n",
      "Message published successfully. Data: {'latitude': -36.2693, 'longitude': 143.1768, 'max_wind_speed': 14.0, 'air_temperature_celcius': 12, 'id': 'sender_1', 'geohash': 'r1tcd', 'relative_humidity': 46.6, 'precipitation ': ' 0.00G', 'windspeed_knots': 6.7, 'time': '17:32:14'}\n",
      "Message published successfully. Data: {'latitude': -36.3334, 'longitude': 141.1515, 'max_wind_speed': 19.0, 'air_temperature_celcius': 22, 'id': 'sender_1', 'geohash': 'r1s37', 'relative_humidity': 55.5, 'precipitation ': ' 0.00I', 'windspeed_knots': 10.3, 'time': '17:32:19'}\n",
      "Message published successfully. Data: {'latitude': -36.4422, 'longitude': 141.42700000000002, 'max_wind_speed': 12.0, 'air_temperature_celcius': 15, 'id': 'sender_1', 'geohash': 'r1s8d', 'relative_humidity': 48.1, 'precipitation ': ' 0.00G', 'windspeed_knots': 7.9, 'time': '17:32:25'}\n",
      "Message published successfully. Data: {'latitude': -36.0966, 'longitude': 142.3635, 'max_wind_speed': 15.0, 'air_temperature_celcius': 22, 'id': 'sender_1', 'geohash': 'r1t4x', 'relative_humidity': 57.0, 'precipitation ': ' 0.00G', 'windspeed_knots': 8.5, 'time': '17:32:30'}\n",
      "Message published successfully. Data: {'latitude': -37.236, 'longitude': 141.17600000000002, 'max_wind_speed': 19.0, 'air_temperature_celcius': 14, 'id': 'sender_1', 'geohash': 'r1kkh', 'relative_humidity': 48.1, 'precipitation ': ' 0.35G', 'windspeed_knots': 13.7, 'time': '17:32:35'}\n",
      "Message published successfully. Data: {'latitude': -36.751999999999995, 'longitude': 144.15, 'max_wind_speed': 20.0, 'air_temperature_celcius': 14, 'id': 'sender_1', 'geohash': 'r1qwb', 'relative_humidity': 50.4, 'precipitation ': ' 0.01G', 'windspeed_knots': 12.8, 'time': '17:32:40'}\n",
      "Message published successfully. Data: {'latitude': -37.1875, 'longitude': 146.8024, 'max_wind_speed': 15.9, 'air_temperature_celcius': 28, 'id': 'sender_1', 'geohash': 'r32kk', 'relative_humidity': 58.3, 'precipitation ': ' 0.00I', 'windspeed_knots': 9.3, 'time': '17:32:45'}\n",
      "Message published successfully. Data: {'latitude': -37.1875, 'longitude': 146.8024, 'max_wind_speed': 15.9, 'air_temperature_celcius': 28, 'id': 'sender_1', 'geohash': 'r32kk', 'relative_humidity': 58.3, 'precipitation ': ' 0.00I', 'windspeed_knots': 9.3, 'time': '17:32:51'}\n"
     ]
    },
    {
     "ename": "KeyboardInterrupt",
     "evalue": "",
     "output_type": "error",
     "traceback": [
      "\u001b[0;31m---------------------------------------------------------------------------\u001b[0m",
      "\u001b[0;31mKeyboardInterrupt\u001b[0m                         Traceback (most recent call last)",
      "\u001b[0;32m<ipython-input-1-e1c60ac0cc94>\u001b[0m in \u001b[0;36m<module>\u001b[0;34m()\u001b[0m\n\u001b[1;32m     52\u001b[0m         \u001b[0mpublish_message\u001b[0m\u001b[0;34m(\u001b[0m\u001b[0mproducer\u001b[0m\u001b[0;34m,\u001b[0m \u001b[0mtopic\u001b[0m\u001b[0;34m,\u001b[0m \u001b[0;34m'parsed'\u001b[0m\u001b[0;34m,\u001b[0m \u001b[0mdata\u001b[0m\u001b[0;34m)\u001b[0m\u001b[0;34m\u001b[0m\u001b[0m\n\u001b[1;32m     53\u001b[0m         \u001b[0mi\u001b[0m \u001b[0;34m=\u001b[0m \u001b[0mrandom\u001b[0m\u001b[0;34m.\u001b[0m\u001b[0mchoice\u001b[0m\u001b[0;34m(\u001b[0m\u001b[0ml\u001b[0m\u001b[0;34m)\u001b[0m\u001b[0;34m\u001b[0m\u001b[0m\n\u001b[0;32m---> 54\u001b[0;31m         \u001b[0msleep\u001b[0m\u001b[0;34m(\u001b[0m\u001b[0;36m5\u001b[0m\u001b[0;34m)\u001b[0m\u001b[0;34m\u001b[0m\u001b[0m\n\u001b[0m\u001b[1;32m     55\u001b[0m \u001b[0;34m\u001b[0m\u001b[0m\n",
      "\u001b[0;31mKeyboardInterrupt\u001b[0m: "
     ]
    }
   ],
   "source": [
    "# Loading the required libraries\n",
    "from time import sleep\n",
    "from json import dumps\n",
    "from kafka import KafkaProducer\n",
    "import random\n",
    "import datetime as dt\n",
    "import pandas as pd\n",
    "import pygeohash as pgh\n",
    "\n",
    "# Function to publish the message which is being transmitted for every 5 seconds\n",
    "def publish_message(producer_instance, topic_name, key, value):\n",
    "    try:\n",
    "        key_bytes = bytes(key, encoding='utf-8')\n",
    "        value_bytes = bytes(value, encoding='utf-8')\n",
    "        producer_instance.send(topic_name, key=key_bytes, value=value_bytes)\n",
    "        producer_instance.flush()\n",
    "        print('Message published successfully. Data: ' + str(data))\n",
    "    except Exception as ex:\n",
    "        print('Exception in publishing message.')\n",
    "        print(str(ex))\n",
    "        \n",
    "# producer function to connect to local kafka sevrer intalled on the machine\n",
    "def connect_kafka_producer():\n",
    "    _producer = None\n",
    "    try:\n",
    "        _producer = KafkaProducer(bootstrap_servers=['localhost:9092'],\n",
    "                                  api_version=(0, 10)) #initiating the server\n",
    "    except Exception as ex:\n",
    "        print('Exception while connecting Kafka.')\n",
    "        print(str(ex))\n",
    "    finally:\n",
    "        return _producer\n",
    "    \n",
    "if __name__ == '__main__':\n",
    "   \n",
    "    topic = 'Scenario01'    \n",
    "    print('Publishing records..')\n",
    "    producer = connect_kafka_producer()\n",
    "    climate=pd.read_csv(\"climate_streaming.csv\")   # reading the file\n",
    "    climate['id']=None # adding new field- sender id\n",
    "    climate['time']=None # adding time\n",
    "    climate['geohash']=None # adding geohash code\n",
    "    l = list(i for i in range(len(climate.index)))  # picking the index of each record in the dataframe\n",
    "    i = random.choice(l) # randomly sending the index to publish message function\n",
    "    while(i<len(climate)):\n",
    "        climate['id'][i]=\"sender_1\"\n",
    "        climate['time'][i]=dt.datetime.now().strftime(\"%H:%M:%S\")\n",
    "        climate['geohash']=pgh.encode(climate['latitude'][i], climate['longitude'][i],precision=5) # adding geohash code of precision 5\n",
    "        data = climate.iloc[i].to_dict() # converting to dictionary format\n",
    "        data=str(data)\n",
    "        publish_message(producer, topic, 'parsed', data)\n",
    "        i = random.choice(l)\n",
    "        sleep(5)\n",
    "        "
   ]
  },
  {
   "cell_type": "code",
   "execution_count": null,
   "metadata": {},
   "outputs": [],
   "source": []
  }
 ],
 "metadata": {
  "kernelspec": {
   "display_name": "Python 3",
   "language": "python",
   "name": "python3"
  },
  "language_info": {
   "codemirror_mode": {
    "name": "ipython",
    "version": 3
   },
   "file_extension": ".py",
   "mimetype": "text/x-python",
   "name": "python",
   "nbconvert_exporter": "python",
   "pygments_lexer": "ipython3",
   "version": "3.5.2"
  }
 },
 "nbformat": 4,
 "nbformat_minor": 2
}
