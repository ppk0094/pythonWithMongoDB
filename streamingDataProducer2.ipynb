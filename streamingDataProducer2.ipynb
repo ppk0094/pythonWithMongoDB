{
 "cells": [
  {
   "cell_type": "code",
   "execution_count": 1,
   "metadata": {},
   "outputs": [
    {
     "name": "stdout",
     "output_type": "stream",
     "text": [
      "Publishing records..\n"
     ]
    },
    {
     "name": "stderr",
     "output_type": "stream",
     "text": [
      "/home/student/.local/lib/python3.5/site-packages/ipykernel_launcher.py:48: SettingWithCopyWarning: \n",
      "A value is trying to be set on a copy of a slice from a DataFrame\n",
      "\n",
      "See the caveats in the documentation: http://pandas.pydata.org/pandas-docs/stable/indexing.html#indexing-view-versus-copy\n",
      "/home/student/.local/lib/python3.5/site-packages/ipykernel_launcher.py:49: SettingWithCopyWarning: \n",
      "A value is trying to be set on a copy of a slice from a DataFrame\n",
      "\n",
      "See the caveats in the documentation: http://pandas.pydata.org/pandas-docs/stable/indexing.html#indexing-view-versus-copy\n"
     ]
    },
    {
     "name": "stdout",
     "output_type": "stream",
     "text": [
      "Message published successfully. Data: {'surface_temperature_celcius': 67, 'geohash': 'r1tys', 'id': 'sender_2', 'latitude': -35.4033, 'confidence': 90, 'longitude': 143.267, 'time': '17:28:31'}\n",
      "Message published successfully. Data: {'surface_temperature_celcius': 89, 'geohash': 'r32u7', 'id': 'sender_2', 'latitude': -37.2168, 'confidence': 100, 'longitude': 147.4748, 'time': '17:28:53'}\n",
      "Message published successfully. Data: {'surface_temperature_celcius': 62, 'geohash': 'r1kv3', 'id': 'sender_2', 'latitude': -37.0081, 'confidence': 66, 'longitude': 141.7654, 'time': '17:29:12'}\n",
      "Message published successfully. Data: {'surface_temperature_celcius': 42, 'geohash': 'r1w0e', 'id': 'sender_2', 'latitude': -36.4347, 'confidence': 63, 'longitude': 143.5704, 'time': '17:29:25'}\n",
      "Message published successfully. Data: {'surface_temperature_celcius': 46, 'geohash': 'r1x02', 'id': 'sender_2', 'latitude': -36.498000000000005, 'confidence': 77, 'longitude': 144.877, 'time': '17:29:42'}\n",
      "Message published successfully. Data: {'surface_temperature_celcius': 103, 'geohash': 'r1mzf', 'id': 'sender_2', 'latitude': -36.5985, 'confidence': 100, 'longitude': 143.1836, 'time': '17:30:11'}\n",
      "Message published successfully. Data: {'surface_temperature_celcius': 46, 'geohash': 'r33q6', 'id': 'sender_2', 'latitude': -36.851, 'confidence': 78, 'longitude': 148.11700000000002, 'time': '17:30:33'}\n",
      "Message published successfully. Data: {'surface_temperature_celcius': 58, 'geohash': 'r1wh2', 'id': 'sender_2', 'latitude': -35.7768, 'confidence': 84, 'longitude': 143.4803, 'time': '17:30:57'}\n",
      "Message published successfully. Data: {'surface_temperature_celcius': 78, 'geohash': 'r1rrb', 'id': 'sender_2', 'latitude': -36.5847, 'confidence': 96, 'longitude': 145.1968, 'time': '17:31:26'}\n",
      "Message published successfully. Data: {'surface_temperature_celcius': 59, 'geohash': 'r32kk', 'id': 'sender_2', 'latitude': -37.189, 'confidence': 85, 'longitude': 146.791, 'time': '17:31:45'}\n",
      "Message published successfully. Data: {'surface_temperature_celcius': 39, 'geohash': 'r38fx', 'id': 'sender_2', 'latitude': -36.1002, 'confidence': 50, 'longitude': 147.6494, 'time': '17:32:08'}\n",
      "Message published successfully. Data: {'surface_temperature_celcius': 61, 'geohash': 'r1mr6', 'id': 'sender_2', 'latitude': -36.6507, 'confidence': 86, 'longitude': 142.4998, 'time': '17:32:34'}\n",
      "Message published successfully. Data: {'surface_temperature_celcius': 53, 'geohash': 'r1kxn', 'id': 'sender_2', 'latitude': -36.701, 'confidence': 80, 'longitude': 141.6351, 'time': '17:32:49'}\n",
      "Message published successfully. Data: {'surface_temperature_celcius': 67, 'geohash': 'r1w4w', 'id': 'sender_2', 'latitude': -36.098, 'confidence': 92, 'longitude': 143.74, 'time': '17:33:09'}\n",
      "Message published successfully. Data: {'surface_temperature_celcius': 39, 'geohash': 'r1wcj', 'id': 'sender_2', 'latitude': -36.3769, 'confidence': 55, 'longitude': 144.7505, 'time': '17:33:32'}\n",
      "Message published successfully. Data: {'surface_temperature_celcius': 46, 'geohash': 'r1s8t', 'id': 'sender_2', 'latitude': -36.4355, 'confidence': 72, 'longitude': 141.5901, 'time': '17:33:58'}\n"
     ]
    },
    {
     "ename": "KeyboardInterrupt",
     "evalue": "",
     "output_type": "error",
     "traceback": [
      "\u001b[0;31m---------------------------------------------------------------------------\u001b[0m",
      "\u001b[0;31mKeyboardInterrupt\u001b[0m                         Traceback (most recent call last)",
      "\u001b[0;32m<ipython-input-1-541aedc4e369>\u001b[0m in \u001b[0;36m<module>\u001b[0;34m()\u001b[0m\n\u001b[1;32m     53\u001b[0m         \u001b[0mpublish_message\u001b[0m\u001b[0;34m(\u001b[0m\u001b[0mproducer\u001b[0m\u001b[0;34m,\u001b[0m \u001b[0mtopic\u001b[0m\u001b[0;34m,\u001b[0m \u001b[0;34m'parsed'\u001b[0m\u001b[0;34m,\u001b[0m \u001b[0mdata\u001b[0m\u001b[0;34m)\u001b[0m\u001b[0;34m\u001b[0m\u001b[0m\n\u001b[1;32m     54\u001b[0m         \u001b[0mi\u001b[0m \u001b[0;34m=\u001b[0m \u001b[0mrandom\u001b[0m\u001b[0;34m.\u001b[0m\u001b[0mchoice\u001b[0m\u001b[0;34m(\u001b[0m\u001b[0ml\u001b[0m\u001b[0;34m)\u001b[0m\u001b[0;34m\u001b[0m\u001b[0m\n\u001b[0;32m---> 55\u001b[0;31m         \u001b[0msleep\u001b[0m\u001b[0;34m(\u001b[0m\u001b[0mrandom\u001b[0m\u001b[0;34m.\u001b[0m\u001b[0mrandint\u001b[0m\u001b[0;34m(\u001b[0m\u001b[0;36m10\u001b[0m\u001b[0;34m,\u001b[0m\u001b[0;36m30\u001b[0m\u001b[0;34m)\u001b[0m\u001b[0;34m)\u001b[0m \u001b[0;31m#Randomising Time\u001b[0m\u001b[0;34m\u001b[0m\u001b[0m\n\u001b[0m",
      "\u001b[0;31mKeyboardInterrupt\u001b[0m: "
     ]
    }
   ],
   "source": [
    "# Loading the required libraries\n",
    "from time import sleep\n",
    "from json import dumps\n",
    "from kafka import KafkaProducer\n",
    "import random\n",
    "import datetime as dt\n",
    "import pandas as pd\n",
    "import pygeohash as pgh\n",
    "import random\n",
    "\n",
    "# Function to publish the message which is being transmitted for every (10-30)seconds\n",
    "def publish_message(producer_instance, topic_name, key, value):\n",
    "    try:\n",
    "        key_bytes = bytes(key, encoding='utf-8')\n",
    "        value_bytes = bytes(value, encoding='utf-8')\n",
    "        producer_instance.send(topic_name, key=key_bytes, value=value_bytes)\n",
    "        producer_instance.flush()\n",
    "        print('Message published successfully. Data: ' + str(data))\n",
    "    except Exception as ex:\n",
    "        print('Exception in publishing message.')\n",
    "        print(str(ex))\n",
    "\n",
    "# producer function to connect to local kafka sevrer intalled on the machine                      \n",
    "def connect_kafka_producer():\n",
    "    _producer = None\n",
    "    try:\n",
    "        _producer = KafkaProducer(bootstrap_servers=['localhost:9092'],\n",
    "                                  api_version=(0, 10))\n",
    "    except Exception as ex:\n",
    "        print('Exception while connecting Kafka.')\n",
    "        print(str(ex))\n",
    "    finally:\n",
    "        return _producer\n",
    "    \n",
    "if __name__ == '__main__':\n",
    "   \n",
    "    topic = 'Scenario01'    \n",
    "    print('Publishing records..')\n",
    "    producer = connect_kafka_producer()\n",
    "    \n",
    "    hotspot_terra=pd.read_csv(\"hotspot_TERRA_streaming.csv\")   # Loading Data\n",
    "    hotspot_terra['id']=None  #Adding Id\n",
    "    hotspot_terra['time']=None # Adding time\n",
    "    hotspot_terra['geohash']=None # Adding Geohash\n",
    "    l = list(i for i in range(len(hotspot_terra.index)))\n",
    "    i = random.choice(l) # Randomising\n",
    "    while(i<len(hotspot_terra)):\n",
    "        hotspot_terra['id'][i]=\"sender_2\"\n",
    "        hotspot_terra['time'][i]=dt.datetime.now().strftime(\"%H:%M:%S\")\n",
    "        hotspot_terra['geohash']=pgh.encode(hotspot_terra['latitude'][i], hotspot_terra['longitude'][i],precision=5)\n",
    "        data = hotspot_terra.iloc[i].to_dict()\n",
    "        data=str(data)\n",
    "        publish_message(producer, topic, 'parsed', data)\n",
    "        i = random.choice(l)\n",
    "        sleep(random.randint(10,30)) #Randomising Time "
   ]
  },
  {
   "cell_type": "code",
   "execution_count": null,
   "metadata": {},
   "outputs": [],
   "source": []
  }
 ],
 "metadata": {
  "kernelspec": {
   "display_name": "Python 3",
   "language": "python",
   "name": "python3"
  },
  "language_info": {
   "codemirror_mode": {
    "name": "ipython",
    "version": 3
   },
   "file_extension": ".py",
   "mimetype": "text/x-python",
   "name": "python",
   "nbconvert_exporter": "python",
   "pygments_lexer": "ipython3",
   "version": "3.5.2"
  }
 },
 "nbformat": 4,
 "nbformat_minor": 2
}
